{
  "nbformat": 4,
  "nbformat_minor": 0,
  "metadata": {
    "colab": {
      "provenance": [],
      "authorship_tag": "ABX9TyNmQ7o8dcirr+yCjwpls4eW",
      "include_colab_link": true
    },
    "kernelspec": {
      "name": "python3",
      "display_name": "Python 3"
    },
    "language_info": {
      "name": "python"
    }
  },
  "cells": [
    {
      "cell_type": "markdown",
      "metadata": {
        "id": "view-in-github",
        "colab_type": "text"
      },
      "source": [
        "<a href=\"https://colab.research.google.com/github/Pupusari/2001206078_ECE/blob/main/Untitled2.ipynb\" target=\"_parent\"><img src=\"https://colab.research.google.com/assets/colab-badge.svg\" alt=\"Open In Colab\"/></a>"
      ]
    },
    {
      "cell_type": "code",
      "execution_count": 1,
      "metadata": {
        "colab": {
          "base_uri": "https://localhost:8080/"
        },
        "id": "4GcDBzzzr8d7",
        "outputId": "290e86d9-75b5-4a84-e598-7c5cc5aae9fb"
      },
      "outputs": [
        {
          "output_type": "stream",
          "name": "stdout",
          "text": [
            "a/b= 2.5\n",
            "a/b= 2\n",
            "a**b= 25\n"
          ]
        }
      ],
      "source": [
        "a=5\n",
        "b=2\n",
        "print('a/b=',a/b)\n",
        "print('a/b=',a//b)\n",
        "print('a**b=',a**b)"
      ]
    },
    {
      "cell_type": "code",
      "source": [
        "a=5\n",
        "b=2\n",
        "print('a/b=',a/b)\n",
        "print('a/b=',a//b)\n",
        "print('a**b=',a**b)\n",
        "print('a<b=',a<b)\n",
        "print('a>b=',a>b)"
      ],
      "metadata": {
        "colab": {
          "base_uri": "https://localhost:8080/"
        },
        "id": "VUl8BvDLt2Ip",
        "outputId": "d3409352-23f3-4eb5-f9de-c52a458fb6a8"
      },
      "execution_count": 2,
      "outputs": [
        {
          "output_type": "stream",
          "name": "stdout",
          "text": [
            "a/b= 2.5\n",
            "a/b= 2\n",
            "a**b= 25\n",
            "a<b= False\n",
            "a>b= True\n"
          ]
        }
      ]
    },
    {
      "cell_type": "code",
      "source": [
        "#Using Logical Operators \n",
        "a=True\n",
        "print('not A=',not a)\n",
        "b=False\n",
        "print('not B=',not b)"
      ],
      "metadata": {
        "colab": {
          "base_uri": "https://localhost:8080/"
        },
        "id": "pkynKbTEuwj9",
        "outputId": "ac4a00ef-cfa4-4ad3-df23-b55fe9dd5659"
      },
      "execution_count": 3,
      "outputs": [
        {
          "output_type": "stream",
          "name": "stdout",
          "text": [
            "not A= False\n",
            "not B= True\n"
          ]
        }
      ]
    },
    {
      "cell_type": "code",
      "source": [
        "#Using Bitwise Operator\n",
        "a=2\n",
        "b=3\n",
        "c=a<<b\n",
        "print('a<<b',c)"
      ],
      "metadata": {
        "colab": {
          "base_uri": "https://localhost:8080/"
        },
        "id": "SbSOGodZxGfX",
        "outputId": "9f01d9a0-3136-4f64-df10-a4043f4af858"
      },
      "execution_count": 4,
      "outputs": [
        {
          "output_type": "stream",
          "name": "stdout",
          "text": [
            "a<<b 16\n"
          ]
        }
      ]
    },
    {
      "cell_type": "code",
      "source": [
        "#Using IDENTITY OPERATOR (is and is not).\n",
        "a=5\n",
        "b=5\n",
        "print('a is b',a is b)\n",
        "print('a is not b',a is not b)\n",
        "x='CSE'\n",
        "y='ECE'\n",
        "print('x is y',x is y)\n",
        "print('x is not y',x is not y)"
      ],
      "metadata": {
        "colab": {
          "base_uri": "https://localhost:8080/"
        },
        "id": "5Gl5Zuo5yTjL",
        "outputId": "483ea56a-e05b-494c-fada-ed0f4254c723"
      },
      "execution_count": 5,
      "outputs": [
        {
          "output_type": "stream",
          "name": "stdout",
          "text": [
            "a is b True\n",
            "a is not b False\n",
            "x is y False\n",
            "x is not y True\n"
          ]
        }
      ]
    },
    {
      "cell_type": "code",
      "source": [
        "#Using Membership Operator(in and not in)\n",
        "a='HELLO ECE'\n",
        "print('A in a=',a in 'A')"
      ],
      "metadata": {
        "colab": {
          "base_uri": "https://localhost:8080/"
        },
        "id": "qjDV7Vcf0s4_",
        "outputId": "1178849c-7719-4011-e221-3b14849bf322"
      },
      "execution_count": 6,
      "outputs": [
        {
          "output_type": "stream",
          "name": "stdout",
          "text": [
            "A in a= False\n"
          ]
        }
      ]
    },
    {
      "cell_type": "code",
      "source": [
        "num=int(input(\"enter the number?\"))\n",
        "if num%2 == 0:\n",
        "   print(\"number is even\")  "
      ],
      "metadata": {
        "id": "KeJwsQH02Lw_"
      },
      "execution_count": null,
      "outputs": []
    },
    {
      "cell_type": "code",
      "source": [
        "#Using if..elif statement\n",
        "num=int(input(\"enter the number?\"))\n",
        "if num== 10:\n",
        "   print(\"number is equals to 10\")  \n",
        "   elif number==50:\n",
        "     print(\"number is eqaul to 50\")\n",
        "     elif number==100:\n",
        "       print (\"number is eqaul to 100\")\n",
        "       else :\n",
        "         print (\"number is not equal to 10,50 or 100\")"
      ],
      "metadata": {
        "id": "kiVsH1Hb5KKQ"
      },
      "execution_count": null,
      "outputs": []
    }
  ]
}