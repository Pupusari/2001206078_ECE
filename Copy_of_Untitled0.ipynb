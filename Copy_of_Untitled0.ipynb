{
  "nbformat": 4,
  "nbformat_minor": 0,
  "metadata": {
    "colab": {
      "provenance": [],
      "authorship_tag": "ABX9TyPusc7urTfQGdcxhcDCCCrW",
      "include_colab_link": true
    },
    "kernelspec": {
      "name": "python3",
      "display_name": "Python 3"
    },
    "language_info": {
      "name": "python"
    }
  },
  "cells": [
    {
      "cell_type": "markdown",
      "metadata": {
        "id": "view-in-github",
        "colab_type": "text"
      },
      "source": [
        "<a href=\"https://colab.research.google.com/github/Pupusari/2001206078_ECE/blob/main/Copy_of_Untitled0.ipynb\" target=\"_parent\"><img src=\"https://colab.research.google.com/assets/colab-badge.svg\" alt=\"Open In Colab\"/></a>"
      ]
    },
    {
      "cell_type": "code",
      "execution_count": null,
      "metadata": {
        "colab": {
          "base_uri": "https://localhost:8080/"
        },
        "id": "mpjGDXS9fHrq",
        "outputId": "5a6fe835-b139-4811-dd6e-f99dbb954d85"
      },
      "outputs": [
        {
          "output_type": "stream",
          "name": "stdout",
          "text": [
            "20 100 141 301\n",
            "100.5 150.0\n",
            "(5+3.14j) 3.14 5.0\n"
          ]
        }
      ],
      "source": [
        "x=0b10100\n",
        "y=100\n",
        "z=0o215\n",
        "u=0x12d\n",
        "#float literal\n",
        "float_1=100.5\n",
        "float_2=1.5e2\n",
        "#complex literal\n",
        "a=5+3.14j\n",
        "print(x,y,z,u)\n",
        "print(float_1,float_2)\n",
        "print(a,a.imag,a.real)"
      ]
    },
    {
      "cell_type": "code",
      "source": [
        "print('hello abit')"
      ],
      "metadata": {
        "id": "qahOVhZ0vAsc",
        "outputId": "bd06e7ba-52a5-4c29-b538-d2bbf855d8c4",
        "colab": {
          "base_uri": "https://localhost:8080/"
        }
      },
      "execution_count": null,
      "outputs": [
        {
          "output_type": "stream",
          "name": "stdout",
          "text": [
            "hello abit\n"
          ]
        }
      ]
    },
    {
      "cell_type": "code",
      "source": [
        "a=23+5j\n",
        "b=2+5.12j\n",
        "c=a+b\n",
        "print(c)"
      ],
      "metadata": {
        "id": "pHaW-tSExZv-",
        "outputId": "f0dddddd-ce4d-4445-ecad-ffee81075ef8",
        "colab": {
          "base_uri": "https://localhost:8080/"
        }
      },
      "execution_count": null,
      "outputs": [
        {
          "output_type": "stream",
          "name": "stdout",
          "text": [
            "(25+10.120000000000001j)\n"
          ]
        }
      ]
    },
    {
      "cell_type": "code",
      "source": [
        "a=int(input('Enter 1st no='))\n",
        "b=int(input('Enter 2nd no='))\n",
        "c=a+b\n",
        "print('c=',c)"
      ],
      "metadata": {
        "id": "9vJvn_yQyB-v",
        "outputId": "a8d5ca6d-176e-4e9a-9727-b043aaadf075",
        "colab": {
          "base_uri": "https://localhost:8080/"
        }
      },
      "execution_count": null,
      "outputs": [
        {
          "output_type": "stream",
          "name": "stdout",
          "text": [
            "Enter 1st no=13\n",
            "Enter 2nd no=12\n",
            "c= 25\n"
          ]
        }
      ]
    },
    {
      "cell_type": "code",
      "source": [
        "#using of/,//and**in arithmatic operator\n",
        "a=2\n",
        "b=4\n",
        "c=a/b\n",
        "print(c)\n",
        "d=a//b\n",
        "print(d)\n",
        "e=a**b\n",
        "print(e)"
      ],
      "metadata": {
        "id": "cn1tT8c5z_uj",
        "outputId": "0cedc7b6-3305-43eb-f2f2-0ba1c95d266a",
        "colab": {
          "base_uri": "https://localhost:8080/"
        }
      },
      "execution_count": null,
      "outputs": [
        {
          "output_type": "stream",
          "name": "stdout",
          "text": [
            "0.5\n",
            "0\n",
            "16\n"
          ]
        }
      ]
    },
    {
      "cell_type": "code",
      "source": [
        " "
      ],
      "metadata": {
        "id": "1MTCZ4YpzR0p"
      },
      "execution_count": null,
      "outputs": []
    }
  ]
}